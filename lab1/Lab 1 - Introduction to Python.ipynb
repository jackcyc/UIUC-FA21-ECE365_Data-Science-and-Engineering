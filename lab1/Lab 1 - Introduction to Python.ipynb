{
 "cells": [
  {
   "cell_type": "markdown",
   "source": [
    "# Lab 1: Introduction to Python"
   ],
   "metadata": {}
  },
  {
   "cell_type": "markdown",
   "source": [
    "Welcome to the Spring 2021 offering of ECE 365: Data Science and Engineering.\n",
    "\n",
    "In this course, we will be using Python 3 as our programming environment for our labs. \n",
    "\n",
    "The labs will be distributed as <a href=\"https://jupyter.org/\">Jupyter (IPython) Notebooks</a> linked to a Python script. This is a nice way to organize Python code and visualize outputs. In the Machine Learning section of the course, only the Python script is required for submission."
   ],
   "metadata": {}
  },
  {
   "cell_type": "markdown",
   "source": [
    "For this course, we expect mathematical maturity at the level of Junior ECE students: familiarity with basic probability (at the level of ECE 313) and basic linear algebra (at the level of MATH 415, i.e. you know how to multiply matrices, transposes, determinants, equations in matrix form, etc.). \n",
    "\n",
    "For the programming assignments, we do not expect you to be familiar with Python before the course. However, we expect you to have some knowledge of programming (i.e. you know what a function is, if statements, loops, etc.). "
   ],
   "metadata": {}
  },
  {
   "cell_type": "markdown",
   "source": [
    "**This lab will not be graded -- it serves to introduce you to Python. Do not turn in this lab.**"
   ],
   "metadata": {}
  },
  {
   "cell_type": "markdown",
   "source": [
    "## Using Jupyter Notebooks"
   ],
   "metadata": {}
  },
  {
   "cell_type": "markdown",
   "source": [
    "A Jupyter notebook consists of a collection of *cells*. Cells are blocks of code, Markdown (text with formatting, can use HTML) or headings.  Generally, problem statements and directions will be written in cells made of Markdown and headings.\r\n",
    "\r\n",
    "To insert a cell, use the Insert menu, and you can insert a cell above or below the current cell. To change the type of cell (code or Markdown), use the dropdown on the toolbar or go to Cell->Cell Type->(Desired Type of cell). A cell can be deleted by using the Edit menu.\r\n",
    "\r\n",
    "To run a code cell, click on it and press the Play button (or hit Shift+Enter). You can also run all cells or run a cell from the cell menu. You can run the cells in different orders than they appear in the notebook (though for readability, you want your notebook to usually be executed from the top down). Note that code cells do support tab completion.\r\n"
   ],
   "metadata": {}
  },
  {
   "cell_type": "code",
   "execution_count": 1,
   "source": [
    "# This is an example of a code cell. You can put Python code here, and run it. # denotes the start of a comment in Python.\r\n",
    "# The order in which you ran the cells will be put in bracket next to In [], such as In[2]\r\n",
    "# and the corresponding output will appear below. \r\n",
    "\r\n",
    "# Example (run this):\r\n",
    "print(\"Hello World!\")\r\n",
    "\r\n",
    "# Note that in Python 3, \"print\" is used as a function.\r\n",
    "# In Python 2, you need to write\r\n",
    "# print \"Hello World!\""
   ],
   "outputs": [
    {
     "output_type": "stream",
     "name": "stdout",
     "text": [
      "Hello World!\n"
     ]
    }
   ],
   "metadata": {
    "collapsed": true
   }
  },
  {
   "cell_type": "markdown",
   "source": [
    "To edit a Markdown cell or Heading cell, double click on it. When you're done, press the Play button (or hit Shift+Enter) to display it with appropriate formatting."
   ],
   "metadata": {}
  },
  {
   "cell_type": "markdown",
   "source": [
    "Jupyter Notebooks have checkpoints built in (i.e. they save every few minutes automatically), but you can also save them using the save icon. \n",
    "\n",
    "\n",
    "You can find many examples of Jupyter Notebooks <a href=\"https://github.com/jupyter/jupyter/wiki/A-gallery-of-interesting-Jupyter-Notebooks\">here</a>. "
   ],
   "metadata": {}
  },
  {
   "cell_type": "markdown",
   "source": [
    "## Introduction to Python"
   ],
   "metadata": {}
  },
  {
   "cell_type": "markdown",
   "source": [
    "For this course, we will only be using a small subset of Python. A good tutorial for the parts of the Python language you will need is available at <a href=\"http://swcarpentry.github.io/python-novice-inflammation/\">Software Carpentry</a> (primarily sections 1,2,5,6). I encourage you to complete the Software Carpentry tutorial. \n",
    "\n",
    "Another good resource is the <a href=\"https://github.com/illinois-cse/python-sp17\">UIUC CSE Workshops</a> (particularly Introduction to Python, Numerical & Scientific Programming with Python and Plotting in Python).\n",
    "\n",
    "If you want the whole nine yards, you can look at the <a href=\"https://docs.python.org/3.6/tutorial/index.html\">official Python documentation</a> or <a href=\"https://learncodethehardway.org/python/\">Learn Python the Hard Way</a>. \n",
    "\n",
    "Python is a common choice for big data work because it is easy to learn, has reasonable performance and there is a wide variety of packages available to do <a href=\"https://xkcd.com/353/\">pretty much anything you want</a>:\n",
    "<img src=\"xkcd.png\">"
   ],
   "metadata": {}
  },
  {
   "cell_type": "markdown",
   "source": [
    "In the first part of the course, we will be using the following packages (libraries, modules):\n",
    "* <a href=\"http://www.numpy.org/\">NumPy</a> - For matrices, vectors, mathematical operations on them, etc.\n",
    "* <a href=\"http://www.scipy.org/scipylib/index.html\">SciPy</a> - More math functions (e.g. calculate distances between data points)\n",
    "* <a href=\"http://scikit-learn.org/stable/\">Scikit-Learn</a> - Smorgasboard of machine learning tools (SVMs, K-Means, K-NN, PCA etc.)\n",
    "* <a href=\"http://matplotlib.org/\">Matplotlib</a> - Easy way to make plots."
   ],
   "metadata": {}
  },
  {
   "cell_type": "markdown",
   "source": [
    "### Basic Language Features"
   ],
   "metadata": {}
  },
  {
   "cell_type": "markdown",
   "source": [
    "To load a library \"numpy\", you can use \"import numpy\". Then, functions in numpy can be accessed as numpy.function().\n",
    "\n",
    "However, typing out the whole library name every time is annoying. So, we can use \"as\" to give it our own name. "
   ],
   "metadata": {}
  },
  {
   "cell_type": "code",
   "execution_count": 2,
   "source": [
    "import numpy as np"
   ],
   "outputs": [],
   "metadata": {
    "collapsed": true
   }
  },
  {
   "cell_type": "markdown",
   "source": [
    "This loads numpy with the name np. If we want to calculate $\\sqrt{10}$ using numpy's square root function, we can now do"
   ],
   "metadata": {}
  },
  {
   "cell_type": "code",
   "execution_count": 3,
   "source": [
    "np.sqrt(10)"
   ],
   "outputs": [
    {
     "output_type": "execute_result",
     "data": {
      "text/plain": [
       "3.1622776601683795"
      ]
     },
     "metadata": {},
     "execution_count": 3
    }
   ],
   "metadata": {
    "collapsed": true
   }
  },
  {
   "cell_type": "markdown",
   "source": [
    "Unlike C, Python does not require you to declare variables. To make a variable x with value $5^2$, we can simply do"
   ],
   "metadata": {}
  },
  {
   "cell_type": "code",
   "execution_count": 4,
   "source": [
    "x=5**2\r\n",
    "print(x)"
   ],
   "outputs": [
    {
     "output_type": "stream",
     "name": "stdout",
     "text": [
      "25\n"
     ]
    }
   ],
   "metadata": {
    "collapsed": true
   }
  },
  {
   "cell_type": "markdown",
   "source": [
    "Scopes of code are also determined by indentation. For example, the following C code, which uses a loop to print the numbers from 1 to 10:\r\n",
    "```\r\n",
    "int i;\r\n",
    "printf(\"Let's print the numbers 1 to 10!\\n\");\r\n",
    "for (i=1;i<=10;i++)\r\n",
    "{\r\n",
    "    printf(\"%i\\n\",i);\r\n",
    "}\r\n",
    "printf(\"Done!\\n\");\r\n",
    "```\r\n",
    "becomes"
   ],
   "metadata": {}
  },
  {
   "cell_type": "code",
   "execution_count": 5,
   "source": [
    "print(\"Let's print the numbers 1 to 10!\")\r\n",
    "for i in range(1,11):\r\n",
    "    print (i)\r\n",
    "print (\"Done!\")"
   ],
   "outputs": [
    {
     "output_type": "stream",
     "name": "stdout",
     "text": [
      "Let's print the numbers 1 to 10!\n",
      "1\n",
      "2\n",
      "3\n",
      "4\n",
      "5\n",
      "6\n",
      "7\n",
      "8\n",
      "9\n",
      "10\n",
      "Done!\n"
     ]
    }
   ],
   "metadata": {
    "collapsed": true
   }
  },
  {
   "cell_type": "markdown",
   "source": [
    "Note that we did not need semicolons, and tab(=4 spaces) was used rather than braces to denote the body of the loop. `range(n)` gives a class which contains a list of numbers $0,1,\\ldots,n-1$ and `range(n,m)` gives a class which contains a list of numbers $n,n+1,\\ldots,m-2,m-1$. The keyword `in` makes `i` take on all the values in `range(1,11)`.\n",
    "\n",
    "We can also do if-else statements. Consider the following C code:\n",
    "```\n",
    "x=2;\n",
    "if (x==0)\n",
    "{\n",
    "    printf(\"zero\\n\");\n",
    "} else if (x==1)\n",
    "{\n",
    "    printf(\"one\");\n",
    "} else \n",
    "{\n",
    "    printf(\"not zero or one\");\n",
    "}\n",
    "```\n",
    "\n",
    "In Python, we use indentation rather than braces. Else if is also shortened to elif:"
   ],
   "metadata": {}
  },
  {
   "cell_type": "code",
   "execution_count": 6,
   "source": [
    "x=1\r\n",
    "if x==0:\r\n",
    "    print (\"zero\")\r\n",
    "elif x==1:\r\n",
    "    print (\"one\")\r\n",
    "else:\r\n",
    "    print (\"not zero or one\")"
   ],
   "outputs": [
    {
     "output_type": "stream",
     "name": "stdout",
     "text": [
      "one\n"
     ]
    }
   ],
   "metadata": {
    "collapsed": true
   }
  },
  {
   "cell_type": "markdown",
   "source": [
    "Here's a little exercise for you to try using a for loop and if statement. Note that logical and, or and not are given by ``and``, ``or``, ``not`` respectively in Python (rather than ``&&,||,!`` in C). The ``break`` and ``continue`` keywords work as in C. Modulus is ``%``. \r\n",
    "\r\n",
    "Exercise 1 (<a href=\"http://c2.com/cgi/wiki?FizzBuzzTest\">FizzBuzz</a>): Prints the numbers from 1 to 100. For multiples of three, print “Fizz” instead of the number and for the multiples of five print “Buzz” instead. For numbers which are multiples of both three and five, print “FizzBuzz”."
   ],
   "metadata": {}
  },
  {
   "cell_type": "code",
   "execution_count": 7,
   "source": [
    "#Put your code here\r\n",
    "for i in range(1,101):\r\n",
    "    if i%3==0 and i%5==0:\r\n",
    "        print(\"FizzBuzz\")\r\n",
    "    elif i%5==0:\r\n",
    "        print(\"Buzz\")\r\n",
    "    elif i%3==0:\r\n",
    "        print(\"Fizz\")\r\n",
    "    else:\r\n",
    "        print(i)\r\n"
   ],
   "outputs": [
    {
     "output_type": "stream",
     "name": "stdout",
     "text": [
      "1\n",
      "2\n",
      "Fizz\n",
      "4\n",
      "Buzz\n",
      "Fizz\n",
      "7\n",
      "8\n",
      "Fizz\n",
      "Buzz\n",
      "11\n",
      "Fizz\n",
      "13\n",
      "14\n",
      "FizzBuzz\n",
      "16\n",
      "17\n",
      "Fizz\n",
      "19\n",
      "Buzz\n",
      "Fizz\n",
      "22\n",
      "23\n",
      "Fizz\n",
      "Buzz\n",
      "26\n",
      "Fizz\n",
      "28\n",
      "29\n",
      "FizzBuzz\n",
      "31\n",
      "32\n",
      "Fizz\n",
      "34\n",
      "Buzz\n",
      "Fizz\n",
      "37\n",
      "38\n",
      "Fizz\n",
      "Buzz\n",
      "41\n",
      "Fizz\n",
      "43\n",
      "44\n",
      "FizzBuzz\n",
      "46\n",
      "47\n",
      "Fizz\n",
      "49\n",
      "Buzz\n",
      "Fizz\n",
      "52\n",
      "53\n",
      "Fizz\n",
      "Buzz\n",
      "56\n",
      "Fizz\n",
      "58\n",
      "59\n",
      "FizzBuzz\n",
      "61\n",
      "62\n",
      "Fizz\n",
      "64\n",
      "Buzz\n",
      "Fizz\n",
      "67\n",
      "68\n",
      "Fizz\n",
      "Buzz\n",
      "71\n",
      "Fizz\n",
      "73\n",
      "74\n",
      "FizzBuzz\n",
      "76\n",
      "77\n",
      "Fizz\n",
      "79\n",
      "Buzz\n",
      "Fizz\n",
      "82\n",
      "83\n",
      "Fizz\n",
      "Buzz\n",
      "86\n",
      "Fizz\n",
      "88\n",
      "89\n",
      "FizzBuzz\n",
      "91\n",
      "92\n",
      "Fizz\n",
      "94\n",
      "Buzz\n",
      "Fizz\n",
      "97\n",
      "98\n",
      "Fizz\n",
      "Buzz\n"
     ]
    }
   ],
   "metadata": {
    "collapsed": true
   }
  },
  {
   "cell_type": "markdown",
   "source": [
    "Nesting loops works the same way that it does in C:"
   ],
   "metadata": {}
  },
  {
   "cell_type": "code",
   "execution_count": 8,
   "source": [
    "for row in range(1,5):\r\n",
    "    for col in range(1,5):\r\n",
    "        print (\"(\",row,\",\",col,\") \",)\r\n",
    "    print (\"\\n\")"
   ],
   "outputs": [
    {
     "output_type": "stream",
     "name": "stdout",
     "text": [
      "( 1 , 1 ) \n",
      "( 1 , 2 ) \n",
      "( 1 , 3 ) \n",
      "( 1 , 4 ) \n",
      "\n",
      "\n",
      "( 2 , 1 ) \n",
      "( 2 , 2 ) \n",
      "( 2 , 3 ) \n",
      "( 2 , 4 ) \n",
      "\n",
      "\n",
      "( 3 , 1 ) \n",
      "( 3 , 2 ) \n",
      "( 3 , 3 ) \n",
      "( 3 , 4 ) \n",
      "\n",
      "\n",
      "( 4 , 1 ) \n",
      "( 4 , 2 ) \n",
      "( 4 , 3 ) \n",
      "( 4 , 4 ) \n",
      "\n",
      "\n"
     ]
    }
   ],
   "metadata": {
    "collapsed": true
   }
  },
  {
   "cell_type": "markdown",
   "source": [
    "Most arithmetic works the same way as it does in C. \n",
    "\n",
    "For Python 2, one thing \"quirk\" is in division: if both numbers are integers, the result will be an integer. While this is consistent with int/int or long/long in C, it can be confusing since we don't declare things to have a type in Python.\n",
    "\n",
    "5/9 will result in 0 in Python 2.\n",
    "\n",
    "5.0/9 will be 0.5555555555555556 in Python 2.\n",
    "\n",
    "Try this example in Python 3:"
   ],
   "metadata": {}
  },
  {
   "cell_type": "code",
   "execution_count": 9,
   "source": [
    "5/9"
   ],
   "outputs": [
    {
     "output_type": "execute_result",
     "data": {
      "text/plain": [
       "0.5555555555555556"
      ]
     },
     "metadata": {},
     "execution_count": 9
    }
   ],
   "metadata": {
    "collapsed": true
   }
  },
  {
   "cell_type": "code",
   "execution_count": 10,
   "source": [
    "5.0/9"
   ],
   "outputs": [
    {
     "output_type": "execute_result",
     "data": {
      "text/plain": [
       "0.5555555555555556"
      ]
     },
     "metadata": {},
     "execution_count": 10
    }
   ],
   "metadata": {
    "collapsed": true
   }
  },
  {
   "cell_type": "code",
   "execution_count": 11,
   "source": [
    "5//9"
   ],
   "outputs": [
    {
     "output_type": "execute_result",
     "data": {
      "text/plain": [
       "0"
      ]
     },
     "metadata": {},
     "execution_count": 11
    }
   ],
   "metadata": {
    "collapsed": true
   }
  },
  {
   "cell_type": "markdown",
   "source": [
    "Most useful codes consist of functions. These are declared with the ``def`` keyword. For example, lets say we didn't know that $x^2$ could be calculated in Python as ``x**2`` and we wanted to write a function ``square`` to do this:"
   ],
   "metadata": {}
  },
  {
   "cell_type": "code",
   "execution_count": 12,
   "source": [
    "def square(x):\r\n",
    "    s=x*x\r\n",
    "    return s"
   ],
   "outputs": [],
   "metadata": {
    "collapsed": true
   }
  },
  {
   "cell_type": "markdown",
   "source": [
    "And we can call this function to calculate $4^2$ as"
   ],
   "metadata": {}
  },
  {
   "cell_type": "code",
   "execution_count": 13,
   "source": [
    "square(4)"
   ],
   "outputs": [
    {
     "output_type": "execute_result",
     "data": {
      "text/plain": [
       "16"
      ]
     },
     "metadata": {},
     "execution_count": 13
    }
   ],
   "metadata": {
    "collapsed": true
   }
  },
  {
   "cell_type": "markdown",
   "source": [
    "Another way to declare a function in Python is to use the lambda expressions:"
   ],
   "metadata": {}
  },
  {
   "cell_type": "code",
   "execution_count": 14,
   "source": [
    "also_a_square = lambda x : x**2\r\n",
    "also_a_square(4)"
   ],
   "outputs": [
    {
     "output_type": "execute_result",
     "data": {
      "text/plain": [
       "16"
      ]
     },
     "metadata": {},
     "execution_count": 14
    }
   ],
   "metadata": {
    "collapsed": true
   }
  },
  {
   "cell_type": "markdown",
   "source": [
    "One good thing about the lambda expressions is that you can pass these function around (however, not recommended for beginners). For example:"
   ],
   "metadata": {}
  },
  {
   "cell_type": "code",
   "execution_count": 15,
   "source": [
    "def pwr(n):\r\n",
    "    return lambda x:x**n"
   ],
   "outputs": [],
   "metadata": {
    "collapsed": true
   }
  },
  {
   "cell_type": "code",
   "execution_count": 16,
   "source": [
    "f2 = pwr(2)\r\n",
    "f2(4)"
   ],
   "outputs": [
    {
     "output_type": "execute_result",
     "data": {
      "text/plain": [
       "16"
      ]
     },
     "metadata": {},
     "execution_count": 16
    }
   ],
   "metadata": {
    "collapsed": true
   }
  },
  {
   "cell_type": "code",
   "execution_count": 17,
   "source": [
    "f3 = f2\r\n",
    "f3(4)"
   ],
   "outputs": [
    {
     "output_type": "execute_result",
     "data": {
      "text/plain": [
       "16"
      ]
     },
     "metadata": {},
     "execution_count": 17
    }
   ],
   "metadata": {
    "collapsed": true
   }
  },
  {
   "cell_type": "markdown",
   "source": [
    "For a comparison of regular functions and lambda expressions, see https://treyhunner.com/2018/09/stop-writing-lambda-expressions/#The_pros_and_cons_of_lambda."
   ],
   "metadata": {}
  },
  {
   "cell_type": "markdown",
   "source": [
    "While not necessary for the first part of the course, it may be useful to learn how <a href=\"https://www.jeffknupp.com/blog/2012/11/13/is-python-callbyvalue-or-callbyreference-neither/\">functions treat their parameters in Python</a>. \n",
    "\n"
   ],
   "metadata": {}
  },
  {
   "cell_type": "markdown",
   "source": [
    "Now, we need to talk about lists. For example, we can have a list of numbers $0,\\ldots,5$, $a$:"
   ],
   "metadata": {}
  },
  {
   "cell_type": "code",
   "execution_count": 18,
   "source": [
    "a=[0,1,2,3,4,5]"
   ],
   "outputs": [],
   "metadata": {
    "collapsed": true
   }
  },
  {
   "cell_type": "markdown",
   "source": [
    "or more succinctly"
   ],
   "metadata": {}
  },
  {
   "cell_type": "code",
   "execution_count": 19,
   "source": [
    "a=list(range(6))"
   ],
   "outputs": [],
   "metadata": {
    "collapsed": true
   }
  },
  {
   "cell_type": "code",
   "execution_count": 20,
   "source": [
    "print(a)"
   ],
   "outputs": [
    {
     "output_type": "stream",
     "name": "stdout",
     "text": [
      "[0, 1, 2, 3, 4, 5]\n"
     ]
    }
   ],
   "metadata": {
    "collapsed": true
   }
  },
  {
   "cell_type": "markdown",
   "source": [
    "Lists have indices starting from 0."
   ],
   "metadata": {}
  },
  {
   "cell_type": "code",
   "execution_count": 21,
   "source": [
    "print(a[0],a[1],a[4])"
   ],
   "outputs": [
    {
     "output_type": "stream",
     "name": "stdout",
     "text": [
      "0 1 4\n"
     ]
    }
   ],
   "metadata": {
    "collapsed": true
   }
  },
  {
   "cell_type": "markdown",
   "source": [
    "But you can also access them backwards with negative numbers"
   ],
   "metadata": {}
  },
  {
   "cell_type": "code",
   "execution_count": 22,
   "source": [
    "print(a[0],a[-1],a[-2])"
   ],
   "outputs": [
    {
     "output_type": "stream",
     "name": "stdout",
     "text": [
      "0 5 4\n"
     ]
    }
   ],
   "metadata": {
    "collapsed": true
   }
  },
  {
   "cell_type": "markdown",
   "source": [
    "Like MATLAB, you can *slice* a list with start:end:step (in MATLAB it is start:step:end). This gives you a list consisting of the elements start, start+step, start + 2 step, ..., up to end (not included!). Omitting step will give step=1. Omitting start and end will give the beginning and end of the array respectively. For example, to print the even indexed elements:"
   ],
   "metadata": {}
  },
  {
   "cell_type": "code",
   "execution_count": 23,
   "source": [
    "print(a[::2])"
   ],
   "outputs": [
    {
     "output_type": "stream",
     "name": "stdout",
     "text": [
      "[0, 2, 4]\n"
     ]
    }
   ],
   "metadata": {
    "collapsed": true
   }
  },
  {
   "cell_type": "markdown",
   "source": [
    "and to access a[1],a[2] **(Key: end is not included!)**"
   ],
   "metadata": {}
  },
  {
   "cell_type": "code",
   "execution_count": 24,
   "source": [
    "print(a[1:3])"
   ],
   "outputs": [
    {
     "output_type": "stream",
     "name": "stdout",
     "text": [
      "[1, 2]\n"
     ]
    }
   ],
   "metadata": {
    "collapsed": true
   }
  },
  {
   "cell_type": "markdown",
   "source": [
    "And you can modify the list through a slice"
   ],
   "metadata": {}
  },
  {
   "cell_type": "code",
   "execution_count": 25,
   "source": [
    "a[1:3]=[6,7]\r\n",
    "print(a)"
   ],
   "outputs": [
    {
     "output_type": "stream",
     "name": "stdout",
     "text": [
      "[0, 6, 7, 3, 4, 5]\n"
     ]
    }
   ],
   "metadata": {
    "collapsed": true
   }
  },
  {
   "cell_type": "markdown",
   "source": [
    "Exercise 2: Write a function `rev(x)` which reverses an input list `x` (use a slice)."
   ],
   "metadata": {}
  },
  {
   "cell_type": "code",
   "execution_count": 26,
   "source": [
    "def rev(x):\r\n",
    "    #Put your code here\r\n",
    "    return x[::-1]"
   ],
   "outputs": [],
   "metadata": {
    "collapsed": true
   }
  },
  {
   "cell_type": "code",
   "execution_count": 27,
   "source": [
    "x=\"hello world!\" #strings aren't lists, but you can slice them. \r\n",
    "print(rev(x))\r\n",
    "print(x)"
   ],
   "outputs": [
    {
     "output_type": "stream",
     "name": "stdout",
     "text": [
      "!dlrow olleh\n",
      "hello world!\n"
     ]
    }
   ],
   "metadata": {
    "collapsed": true
   }
  },
  {
   "cell_type": "markdown",
   "source": [
    "**Be careful with \"copying\" items in Python.** Python uses something called <a href=\"https://docs.python.org/3.6/library/copy.html\">deep and shallow copies</a>. Roughly speaking, when you do\n",
    "```\n",
    "y=x\n",
    "```\n",
    "`y` points to the same thing as `x`. If `x` is a compound object (e.g. a list), then changing y can change x.\n",
    "\n",
    "To avoid this, use \n",
    "```\n",
    "import copy\n",
    "y=copy.copy(x) # shallow copy\n",
    "y=copy.deepcopy(x) # deep copy\n",
    "```\n",
    "\n",
    "which makes a deep copy (or an appropriate copy constructor). \n",
    "\n",
    "Note that `is` will return True if two variables point to the same object, `==` if the objects referred to by the variables are equal."
   ],
   "metadata": {}
  },
  {
   "cell_type": "code",
   "execution_count": 28,
   "source": [
    "# Simple \r\n",
    "x=5\r\n",
    "y=x\r\n",
    "print (\"x is y:\", x is y)\r\n",
    "y=2\r\n",
    "print (\"x=\",x)\r\n",
    "print (\"y=\",y)\r\n",
    "\r\n",
    "# A list\r\n",
    "x=[4,5,6]\r\n",
    "y=x\r\n",
    "print (\"x is y:\", x is y)\r\n",
    "y[1]=2\r\n",
    "print (\"x=\",x)\r\n",
    "print (\"y=\",y)\r\n",
    "\r\n",
    "# Copying a list with copy.copy\r\n",
    "import copy\r\n",
    "x=[4,5,6]\r\n",
    "y=copy.copy(x)\r\n",
    "print (\"x is y:\", x is y)\r\n",
    "y[1]=2\r\n",
    "print (\"x=\",x)\r\n",
    "print (\"y=\",y)\r\n",
    "\r\n",
    "# Copying a list with an appropriate constructor\r\n",
    "x=[4,5,6]\r\n",
    "y=list(x)\r\n",
    "print (\"x is y:\", x is y)\r\n",
    "y[1]=2\r\n",
    "print (\"x=\",x)\r\n",
    "print (\"y=\",y)"
   ],
   "outputs": [
    {
     "output_type": "stream",
     "name": "stdout",
     "text": [
      "x is y: True\n",
      "x= 5\n",
      "y= 2\n",
      "x is y: True\n",
      "x= [4, 2, 6]\n",
      "y= [4, 2, 6]\n",
      "x is y: False\n",
      "x= [4, 5, 6]\n",
      "y= [4, 2, 6]\n",
      "x is y: False\n",
      "x= [4, 5, 6]\n",
      "y= [4, 2, 6]\n"
     ]
    }
   ],
   "metadata": {
    "collapsed": true
   }
  },
  {
   "cell_type": "markdown",
   "source": [
    "Finally, to help this jupyter notebook to connect to your Python script, you can use %run `<script_name`>. In all our labs, the linked script will be named as *main.py*. **Do not change the file name!**"
   ],
   "metadata": {}
  },
  {
   "cell_type": "code",
   "execution_count": 29,
   "source": [
    "%run main.py"
   ],
   "outputs": [],
   "metadata": {
    "collapsed": true
   }
  },
  {
   "cell_type": "markdown",
   "source": [
    "The following line creates an object from the class in *main.py*. **Do not change the class name and function headers!**"
   ],
   "metadata": {}
  },
  {
   "cell_type": "code",
   "execution_count": 30,
   "source": [
    "module = Lab1()"
   ],
   "outputs": [],
   "metadata": {
    "collapsed": true
   }
  },
  {
   "cell_type": "markdown",
   "source": [
    "Note that if you change your function in *main.py*, you need to run the above two lines again to get an updated result."
   ],
   "metadata": {}
  },
  {
   "cell_type": "markdown",
   "source": [
    "### The NumPy Library"
   ],
   "metadata": {}
  },
  {
   "cell_type": "markdown",
   "source": [
    "NumPy is the library which gives us the numpy array, and along with its partner in crime, SciPy, gives us a bunch of linear algebra tools. A quick tutorial is available <a href=\"https://docs.scipy.org/doc/numpy/user/quickstart.html\">here</a>. For those who are used to MATLAB, some common paradigms are translated from MATLAB to numpy <a href=\"https://docs.scipy.org/doc/numpy/user/numpy-for-matlab-users.html\">here</a>. I recommend you read this documentation. This is by no means an exhaustive list of functions you will be using from numpy in the course.\n",
    "\n",
    "You can load the `numpy` library with the name `np` with\n",
    "```\n",
    "import numpy as np\n",
    "```\n",
    "which we did earlier."
   ],
   "metadata": {}
  },
  {
   "cell_type": "markdown",
   "source": [
    "The fundamental data type we will be using is the numpy array, which can represent vectors, matrices, tensors, etc. You can make a numpy array in several ways:\r\n",
    "```\r\n",
    "np.zeros( k ), np.ones(k) : make a vector of k zeros\r\n",
    "np.zeros ( (k,l) ) , np.ones( (k,l) ): make a matrix with k rows and l columns\r\n",
    "np.array( list ) : make a numpy array from list or matrix\r\n",
    "np.arange (stop) : make a vector of numbers 0,1,...,stop-1 \r\n",
    "np.copy(m) : make a copy of numpy array m\r\n",
    "```\r\n",
    "\r\n",
    "You can enter a matrix in as [[a,b],[c,d]] to get $\\begin{bmatrix} a & b \\\\ c & d \\end{bmatrix}$. A vector can be entered as [a,b,c]. Some examples are given below. "
   ],
   "metadata": {}
  },
  {
   "cell_type": "code",
   "execution_count": 31,
   "source": [
    "a=np.zeros(5)\r\n",
    "print (\"a=\",a)\r\n",
    "m = np.ones( (3,2))\r\n",
    "print (\"m=\",m)\r\n",
    "v=np.array([1,2])\r\n",
    "print (\"v=\",v)\r\n",
    "n= np.array([[1,2],[3,4]])\r\n",
    "print (\"n=\",n)"
   ],
   "outputs": [
    {
     "output_type": "stream",
     "name": "stdout",
     "text": [
      "a= [0. 0. 0. 0. 0.]\n",
      "m= [[1. 1.]\n",
      " [1. 1.]\n",
      " [1. 1.]]\n",
      "v= [1 2]\n",
      "n= [[1 2]\n",
      " [3 4]]\n"
     ]
    }
   ],
   "metadata": {
    "collapsed": true
   }
  },
  {
   "cell_type": "markdown",
   "source": [
    "You can get the shape and size of an array using .shape and .size"
   ],
   "metadata": {}
  },
  {
   "cell_type": "code",
   "execution_count": 32,
   "source": [
    "print (\"v=\",v)\r\n",
    "print (\"v.shape=\",v.shape,\"v.size=\",v.size)\r\n",
    "print (\"n=\",n)\r\n",
    "print (\"n.shape=\",n.shape,\"n.size=\",n.size)"
   ],
   "outputs": [
    {
     "output_type": "stream",
     "name": "stdout",
     "text": [
      "v= [1 2]\n",
      "v.shape= (2,) v.size= 2\n",
      "n= [[1 2]\n",
      " [3 4]]\n",
      "n.shape= (2, 2) n.size= 4\n"
     ]
    }
   ],
   "metadata": {
    "collapsed": true
   }
  },
  {
   "cell_type": "markdown",
   "source": [
    "Note that the vector is specified as (length,). This is a useful (though counterintuitive) feature of numpy: it does not distinguish between row and column vectors, but automatically interprets the math by the way it makes sense. One can understand it better with array storage (see <a href=\"https://stackoverflow.com/a/22074424\">this answer</a>).\n",
    "\n",
    "You can also reshape an array using ```np.reshape```."
   ],
   "metadata": {}
  },
  {
   "cell_type": "code",
   "execution_count": 33,
   "source": [
    "onethrough6=np.arange(6)+1\r\n",
    "print (\"The Numbers 1-6 as a Vector:\\n\", onethrough6)\r\n",
    "print (\"The Numbers 1-6 as a matrix:\\n\", np.reshape(onethrough6,(2,3)))\r\n",
    "print (\"The Numbers 1-6 as another matrix:\\n\", np.reshape(onethrough6,(3,-1))) # -1 will determine the last dim. automatically"
   ],
   "outputs": [
    {
     "output_type": "stream",
     "name": "stdout",
     "text": [
      "The Numbers 1-6 as a Vector:\n",
      " [1 2 3 4 5 6]\n",
      "The Numbers 1-6 as a matrix:\n",
      " [[1 2 3]\n",
      " [4 5 6]]\n",
      "The Numbers 1-6 as another matrix:\n",
      " [[1 2]\n",
      " [3 4]\n",
      " [5 6]]\n"
     ]
    }
   ],
   "metadata": {
    "collapsed": true
   }
  },
  {
   "cell_type": "markdown",
   "source": [
    "We can transpose a matrix by using .transpose() (or simply .T). But it doesn't do anything for vectors."
   ],
   "metadata": {}
  },
  {
   "cell_type": "code",
   "execution_count": 34,
   "source": [
    "print (\"v=\\n\",v)\r\n",
    "print (\"v.transpose()=\\n\",v.transpose()) # this is just v, because numpy doesnt distinguish between row and column vectors\r\n",
    "print (\"n=\\n\",n )\r\n",
    "print (\"n.transpose()=\\n\",n.transpose()) # this is n^T\r\n",
    "print (\"n.T=\\n\",n.T)"
   ],
   "outputs": [
    {
     "output_type": "stream",
     "name": "stdout",
     "text": [
      "v=\n",
      " [1 2]\n",
      "v.transpose()=\n",
      " [1 2]\n",
      "n=\n",
      " [[1 2]\n",
      " [3 4]]\n",
      "n.transpose()=\n",
      " [[1 3]\n",
      " [2 4]]\n",
      "n.T=\n",
      " [[1 3]\n",
      " [2 4]]\n"
     ]
    }
   ],
   "metadata": {
    "collapsed": true
   }
  },
  {
   "cell_type": "markdown",
   "source": [
    "Array math is by default elementwise. "
   ],
   "metadata": {}
  },
  {
   "cell_type": "code",
   "execution_count": 35,
   "source": [
    "m1= np.array([[1,2],[3,4]])\r\n",
    "m2= np.array([[5,6],[7,8]])\r\n",
    "print (\"m1=\\n\",m1)\r\n",
    "print (\"m2=\\n\",m2)\r\n",
    "print (\"m1+m2=\\n\",m1+m2)\r\n",
    "print (\"m1-m2=\\n\",m1-m2)\r\n",
    "print (\"m1/m2 elementwise:\\n\",m1/m2)\r\n",
    "print (\"m1*m2 elementwise:\\n\",m1*m2)"
   ],
   "outputs": [
    {
     "output_type": "stream",
     "name": "stdout",
     "text": [
      "m1=\n",
      " [[1 2]\n",
      " [3 4]]\n",
      "m2=\n",
      " [[5 6]\n",
      " [7 8]]\n",
      "m1+m2=\n",
      " [[ 6  8]\n",
      " [10 12]]\n",
      "m1-m2=\n",
      " [[-4 -4]\n",
      " [-4 -4]]\n",
      "m1/m2 elementwise:\n",
      " [[0.2        0.33333333]\n",
      " [0.42857143 0.5       ]]\n",
      "m1*m2 elementwise:\n",
      " [[ 5 12]\n",
      " [21 32]]\n"
     ]
    }
   ],
   "metadata": {
    "collapsed": true
   }
  },
  {
   "cell_type": "markdown",
   "source": [
    "To do proper matrix multiplication, use dot. If $A,B$ are matrices, A.dot(B) calculates $AB$. For a vector v (which mathematically we always assume is a column vector), and matrix A, $v^T A$ is calculated as v.dot(A) and $A v$ is calculated as A.dot(v). \n",
    "\n",
    "For two vectors v,w, the dot product is v.dot(w). For the outer product between them $v w^T$, one must do np.outer(v,w). This is a bit cumbersome.\n",
    "\n",
    "You can invert a matrix using np.linalg.inv(matrix).\n",
    "\n",
    "One note on the numerical issue. **Avoid inverting a matrix at best!** Matrix inversion is much less stable than matrix multiplication. Most often, one is inverting a matrix when solving linear equations. In that case, an equation solver is much quicker ($O(n^2)$, compared with $O(n^3)$ using inversion and multiplication) and more accurate. See <a href=\"https://scicomp.stackexchange.com/a/26428\">this post</a>."
   ],
   "metadata": {}
  },
  {
   "cell_type": "code",
   "execution_count": 36,
   "source": [
    "print (\"m1*m2=\\n\", m1.dot(m2))\r\n",
    "print (\"m2*m1=\\n\", m2.dot(m1))\r\n",
    "print (\"v^T*m1=\\n\", v.dot(m1))\r\n",
    "print (\"m1*v=\\n\", m1.dot(v))\r\n",
    "\r\n",
    "v=np.array([1,2])\r\n",
    "w=np.array([4,7])\r\n",
    "print (\"v w^T\\n\", np.outer(v,w))\r\n",
    "print (\"inverse(m1)=\\n\",np.linalg.inv(m1))"
   ],
   "outputs": [
    {
     "output_type": "stream",
     "name": "stdout",
     "text": [
      "m1*m2=\n",
      " [[19 22]\n",
      " [43 50]]\n",
      "m2*m1=\n",
      " [[23 34]\n",
      " [31 46]]\n",
      "v^T*m1=\n",
      " [ 7 10]\n",
      "m1*v=\n",
      " [ 5 11]\n",
      "v w^T\n",
      " [[ 4  7]\n",
      " [ 8 14]]\n",
      "inverse(m1)=\n",
      " [[-2.   1. ]\n",
      " [ 1.5 -0.5]]\n"
     ]
    }
   ],
   "metadata": {
    "collapsed": true
   }
  },
  {
   "cell_type": "markdown",
   "source": [
    "You can also slice and index numpy arrays. "
   ],
   "metadata": {}
  },
  {
   "cell_type": "code",
   "execution_count": 37,
   "source": [
    "print (\"m1=\\n\",m1)\r\n",
    "print (\"m1[1,1]=\\n\",m1[1,1])\r\n",
    "print (\"m1[:,1]=\\n\",m1[:,1])"
   ],
   "outputs": [
    {
     "output_type": "stream",
     "name": "stdout",
     "text": [
      "m1=\n",
      " [[1 2]\n",
      " [3 4]]\n",
      "m1[1,1]=\n",
      " 4\n",
      "m1[:,1]=\n",
      " [2 4]\n"
     ]
    }
   ],
   "metadata": {
    "collapsed": true
   }
  },
  {
   "cell_type": "markdown",
   "source": [
    "You can also index numpy arrays with boolean arrays or other arrays representing indices. Examples are given <a href=\"https://docs.scipy.org/doc/numpy/user/quickstart.html#fancy-indexing-and-index-tricks\">here</a>. You can use this to write your k-Nearest Neighbors code compactly in Lab 2.\n",
    "\n",
    "This list is not extensive -- if you think a function should exist in numpy, chances are it does. Check the documentation. For example, ``numpy.fliplr`` and ```numpy.flipud``` will flip an array left to right and up and down respectively. "
   ],
   "metadata": {}
  },
  {
   "cell_type": "markdown",
   "source": [
    "Here are some exercises for you to get familiar with numpy array math (and plotting)."
   ],
   "metadata": {}
  },
  {
   "cell_type": "code",
   "execution_count": 38,
   "source": [
    "# This is a line magic -- a script which Jupyter uses to do nice things.  Line magics start with %\r\n",
    "# This one will give us inline plotting in the notebook. Don't worry about the warnings in this case. \r\n",
    "%pylab inline"
   ],
   "outputs": [
    {
     "output_type": "stream",
     "name": "stdout",
     "text": [
      "Populating the interactive namespace from numpy and matplotlib\n"
     ]
    },
    {
     "output_type": "stream",
     "name": "stderr",
     "text": [
      "C:\\Users\\jack0\\AppData\\Roaming\\Python\\Python38\\site-packages\\IPython\\core\\magics\\pylab.py:159: UserWarning: pylab import has clobbered these variables: ['copy', 'square']\n",
      "`%matplotlib` prevents importing * from pylab and numpy\n",
      "  warn(\"pylab import has clobbered these variables: %s\"  % clobbered +\n"
     ]
    }
   ],
   "metadata": {
    "collapsed": true
   }
  },
  {
   "cell_type": "markdown",
   "source": [
    "Exercise 3: Solve $A x = b$ for $x$ where $A=\\begin{bmatrix} 1 & 2 \\\\ 3 & 4 \\end{bmatrix}, b=\\begin{bmatrix} 8 \\\\ 9 \\end{bmatrix}$ using matrix inversion. You can verify your solution by calculating $Ax$."
   ],
   "metadata": {}
  },
  {
   "cell_type": "code",
   "execution_count": 39,
   "source": [
    "A=np.array([[1,2],[3,4]])\r\n",
    "b=np.array([8,9])\r\n",
    "res = module.solver(A,b)\r\n",
    "print(res)"
   ],
   "outputs": [
    {
     "output_type": "stream",
     "name": "stdout",
     "text": [
      "[-7.   7.5]\n"
     ]
    }
   ],
   "metadata": {
    "collapsed": true
   }
  },
  {
   "cell_type": "markdown",
   "source": [
    "Another way is to use an linear equation solver, as below:"
   ],
   "metadata": {}
  },
  {
   "cell_type": "code",
   "execution_count": 40,
   "source": [
    "y = np.linalg.solve(A, b)\r\n",
    "print(y)"
   ],
   "outputs": [
    {
     "output_type": "stream",
     "name": "stdout",
     "text": [
      "[-7.   7.5]\n"
     ]
    }
   ],
   "metadata": {
    "collapsed": true
   }
  },
  {
   "cell_type": "markdown",
   "source": [
    "Exercise 4 (Curve fitting): We are given a set of points $\\{(x_i,y_i)\\}_{i=1}^N$, and want to find a straight line which fits these points well. \n",
    "\n",
    "If the line is $y=a x + b$, we can write a system of equations\n",
    "\n",
    "$y_1 = a x_1 + b$\n",
    "\n",
    "$y_2 = a x_2 + b$\n",
    "\n",
    "$\\vdots$\n",
    "\n",
    "$y_n = a x_n + b$\n",
    "\n",
    "which we can write using matrices: $\\begin{bmatrix}\n",
    "x_1 & 1\\\\\n",
    "x_2 & 1\\\\\n",
    "\\vdots & \\vdots \\\\\n",
    "x_n & 1\n",
    "\\end{bmatrix} \\begin{bmatrix}a \\\\ b \\end{bmatrix} = \\begin{bmatrix} y_1 \\\\ y_2 \\\\ \\vdots \\\\ y_n\\end{bmatrix}$ (verify that this is correct on your own!)."
   ],
   "metadata": {}
  },
  {
   "cell_type": "code",
   "execution_count": 41,
   "source": [
    "# I'll give you a set of points\r\n",
    "x=np.linspace(-5,5,100) # get a list of 100 evenly spaced points in (-5,5)\r\n",
    "y=2*x+1+np.random.randn(100) # the true line is y=2x+1, but the data points are corrupted by some noise."
   ],
   "outputs": [],
   "metadata": {
    "collapsed": true
   }
  },
  {
   "cell_type": "code",
   "execution_count": 42,
   "source": [
    "# Now we'll plot these\r\n",
    "plot(x,y) # plot the data\r\n",
    "xlim(-5,5) # set the horizontal limits\r\n",
    "ylim(y.min(),y.max()) # set the vertical limits to the smallest and largest data points"
   ],
   "outputs": [
    {
     "output_type": "execute_result",
     "data": {
      "text/plain": [
       "(-11.036329286414091, 11.446341936194807)"
      ]
     },
     "metadata": {},
     "execution_count": 42
    },
    {
     "output_type": "display_data",
     "data": {
      "image/png": "[encoded data removed]",
      "text/plain": [
       "<Figure size 432x288 with 1 Axes>"
      ]
     },
     "metadata": {
      "needs_background": "light"
     }
    }
   ],
   "metadata": {
    "collapsed": true
   }
  },
  {
   "cell_type": "markdown",
   "source": [
    "Now, if the matrix $\\begin{bmatrix}\r\n",
    "x_1 & 1\\\\\r\n",
    "x_2 & 1\\\\\r\n",
    "\\vdots & \\vdots \\\\\r\n",
    "x_n & 1\r\n",
    "\\end{bmatrix}$ was invertible, we'd just write $\\begin{bmatrix} a \\\\ b \\end{bmatrix} = \\begin{bmatrix}\r\n",
    "x_1 & 1\\\\\r\n",
    "x_2 & 1\\\\\r\n",
    "\\vdots & \\vdots \\\\\r\n",
    "x_n & 1\r\n",
    "\\end{bmatrix}^{-1}  \\begin{bmatrix} y_1 \\\\ y_2 \\\\ \\vdots \\\\ y_n\\end{bmatrix}$. \r\n",
    "\r\n",
    "But this doesn't make sense, since the matrix $\\begin{bmatrix}\r\n",
    "x_1 & 1\\\\\r\n",
    "x_2 & 1\\\\\r\n",
    "\\vdots & \\vdots \\\\\r\n",
    "x_n & 1\r\n",
    "\\end{bmatrix}$ won't even be square normally. \r\n",
    "\r\n",
    "As we will see in the linear regression section, a good solution is to use \r\n",
    "\r\n",
    "$\\begin{bmatrix} a \\\\ b \\end{bmatrix} \\approx \\begin{bmatrix}\r\n",
    "x_1 & 1\\\\\r\n",
    "x_2 & 1\\\\\r\n",
    "\\vdots & \\vdots \\\\\r\n",
    "x_n & 1\r\n",
    "\\end{bmatrix}^{\\dagger}  \\begin{bmatrix} y_1 \\\\ y_2 \\\\ \\vdots \\\\ y_n\\end{bmatrix}$ where $\\dagger$ denotes the <a href=\"https://en.wikipedia.org/wiki/Moore%E2%80%93Penrose_pseudoinverse\">pseudoinverse</a>, which acts like an inverse (in some sense) when you cannot invert a matrix. The pseudoinverse can be calculated using `numpy.linalg.pinv` with the same syntax as matrix inversion. `numpy.column_stack` may also be useful.\r\n",
    "\r\n",
    "Use the pseudoinverse to calculate $\\begin{bmatrix} a \\\\ b \\end{bmatrix}$. Put your coefficients in a numpy array called coeff."
   ],
   "metadata": {}
  },
  {
   "cell_type": "code",
   "execution_count": 43,
   "source": [
    "x.shape\r\n"
   ],
   "outputs": [
    {
     "output_type": "execute_result",
     "data": {
      "text/plain": [
       "(100,)"
      ]
     },
     "metadata": {},
     "execution_count": 43
    }
   ],
   "metadata": {}
  },
  {
   "cell_type": "code",
   "execution_count": 44,
   "source": [
    "coeff = module.fitting(x,y)\r\n",
    "print(coeff)"
   ],
   "outputs": [
    {
     "output_type": "stream",
     "name": "stdout",
     "text": [
      "[1.96360405 0.83620208]\n"
     ]
    }
   ],
   "metadata": {
    "collapsed": true
   }
  },
  {
   "cell_type": "markdown",
   "source": [
    "Now, lets see how the line fits up. \n"
   ],
   "metadata": {}
  },
  {
   "cell_type": "code",
   "execution_count": 45,
   "source": [
    "scatter(x,y) # scatter plot the data\r\n",
    "xlim(-5,5) # set the horizontal limits\r\n",
    "ylim(y.min(),y.max()) # set the vertical limits to the smallest and largest data points\r\n",
    "plot(x,coeff[0]*x+coeff[1], '-r') # plot the best fit line"
   ],
   "outputs": [
    {
     "output_type": "execute_result",
     "data": {
      "text/plain": [
       "[<matplotlib.lines.Line2D at 0x1028d0d0>]"
      ]
     },
     "metadata": {},
     "execution_count": 45
    },
    {
     "output_type": "display_data",
     "data": {
      "image/png": "[encoded data removed]",
      "text/plain": [
       "<Figure size 432x288 with 1 Axes>"
      ]
     },
     "metadata": {
      "needs_background": "light"
     }
    }
   ],
   "metadata": {
    "collapsed": true
   }
  },
  {
   "cell_type": "markdown",
   "source": [
    "Now, we will talk a bit on code vectorization. The exercises will have (a) parts and (b) parts. You should be able to complete the (a) parts easily. The (b) parts are harder, but it is good (but not necessary) to know how to complete them).  "
   ],
   "metadata": {}
  },
  {
   "cell_type": "markdown",
   "source": [
    "In many cases, we recieve our feature vectors in the form of a matrix $X$ where each row of $X$ is a feature vector, i.e.\r\n",
    "$$ X = \\begin{bmatrix} x_{11} & x_{12} & \\ldots & x_{1d} \\\\\r\n",
    "\\vdots & \\vdots & \\vdots & \\vdots \\\\\r\n",
    "x_{N1} & x_{N2} & \\ldots & x_{Nd}\\end{bmatrix} $$\r\n",
    "or more compactly, \r\n",
    "$$ X = \\begin{bmatrix} \\mathbf{x}_1^\\top \\\\ \\vdots \\\\  \\mathbf{x}_N^\\top \\end{bmatrix}$$\r\n",
    "where $\\mathbf{x}_i = \\begin{bmatrix} x_{i1} \\\\ \\vdots \\\\ x_{id} \\end{bmatrix}$.\r\n"
   ],
   "metadata": {}
  },
  {
   "cell_type": "markdown",
   "source": [
    "We often want to calculate quantities like $S \\mathbf{x}$ where $S$ is some matrix of appropriate size. \n",
    "\n"
   ],
   "metadata": {}
  },
  {
   "cell_type": "code",
   "execution_count": 46,
   "source": [
    "# Lets first make a matrix S and some data\r\n",
    "S=np.asarray([[2,1,3],[1,2,1]])\r\n",
    "X=(np.arange(15)).reshape((5,3))\r\n",
    "print (\"S=\")\r\n",
    "print (S)\r\n",
    "print (\"X=\")\r\n",
    "print (X)"
   ],
   "outputs": [
    {
     "output_type": "stream",
     "name": "stdout",
     "text": [
      "S=\n",
      "[[2 1 3]\n",
      " [1 2 1]]\n",
      "X=\n",
      "[[ 0  1  2]\n",
      " [ 3  4  5]\n",
      " [ 6  7  8]\n",
      " [ 9 10 11]\n",
      " [12 13 14]]\n"
     ]
    }
   ],
   "metadata": {
    "collapsed": true
   }
  },
  {
   "cell_type": "code",
   "execution_count": 47,
   "source": [
    "# Now, lets calculate S x_i for each feature vector x_i and store this as a row in the matrix Sx\r\n",
    "# in the naive way\r\n",
    "def naiveSx(S,X):\r\n",
    "    Sx = np.zeros((X.shape[0],S.shape[0]))\r\n",
    "\r\n",
    "    for i in range(X.shape[0]):\r\n",
    "        Sx[i]=np.dot(S,X[i])\r\n",
    "    return Sx\r\n",
    "\r\n",
    "print (naiveSx(S,X))"
   ],
   "outputs": [
    {
     "output_type": "stream",
     "name": "stdout",
     "text": [
      "[[ 7.  4.]\n",
      " [25. 16.]\n",
      " [43. 28.]\n",
      " [61. 40.]\n",
      " [79. 52.]]\n"
     ]
    }
   ],
   "metadata": {
    "collapsed": true
   }
  },
  {
   "cell_type": "markdown",
   "source": [
    "So, your loop will end up having $N$ iterations, and doing a matrix * vector multiply in each one. \n",
    "\n",
    "However, some simple linear algebra gives us a nice way to calculate them all in one shot with one matrix\\*matrix multiply. \n",
    "\n",
    "You can easily check the following matrix multiplication is true: \n",
    "$$X S^\\top  =  \\begin{bmatrix} \\mathbf{x}_1^\\top \\\\ \\vdots \\\\  \\mathbf{x}_N^\\top \\end{bmatrix} S^\\top =  \\begin{bmatrix} \\mathbf{x}_1^\\top S^\\top \\\\ \\vdots \\\\  \\mathbf{x}_N^\\top S^\\top \\end{bmatrix} = \\begin{bmatrix} (S \\mathbf{x}_1)^\\top \\\\ \\vdots \\\\  (S \\mathbf{x}_N)\\top \\end{bmatrix}$$"
   ],
   "metadata": {}
  },
  {
   "cell_type": "code",
   "execution_count": 48,
   "source": [
    "# Lets try calculating S x using this.\r\n",
    "def matrixSx(S,x):\r\n",
    "    return np.dot(X,S.T)\r\n",
    "print (matrixSx(S,X))"
   ],
   "outputs": [
    {
     "output_type": "stream",
     "name": "stdout",
     "text": [
      "[[ 7  4]\n",
      " [25 16]\n",
      " [43 28]\n",
      " [61 40]\n",
      " [79 52]]\n"
     ]
    }
   ],
   "metadata": {
    "collapsed": true
   }
  },
  {
   "cell_type": "markdown",
   "source": [
    "Now, one may say, \"Is there an advantage of doing one over the other?\"\n",
    "\n",
    "Well, lets see how they perform. "
   ],
   "metadata": {}
  },
  {
   "cell_type": "code",
   "execution_count": 49,
   "source": [
    "d=10\r\n",
    "N=1000\r\n",
    "S=np.random.randn(d,d) # We'll generate some random S (d x d) and data X (N x d)\r\n",
    "X=np.random.randn(N,d)\r\n",
    "%timeit naiveSx(S,X)\r\n",
    "%timeit matrixSx(S,X)"
   ],
   "outputs": [
    {
     "output_type": "stream",
     "name": "stdout",
     "text": [
      "2.85 ms ± 224 µs per loop (mean ± std. dev. of 7 runs, 100 loops each)\n",
      "47 µs ± 2.56 µs per loop (mean ± std. dev. of 7 runs, 10000 loops each)\n"
     ]
    }
   ],
   "metadata": {
    "collapsed": true
   }
  },
  {
   "cell_type": "markdown",
   "source": [
    "You should see that the naive version (2.17 ms on my computer) is much slower with d=10, N=1000 than the matrix version (33.5 $\\mu$s; a factor of 65x). And, with a bit of experience, the matrix multiply version will yield much more readable code.\n",
    "\n",
    "In many cases, for fast, readable code, you'll want to use built-in operations which can operate on the data array (or large portions of it at one time), rather than iterating over each feature vector. Of course, you need to do some thinking and experimentation to determine what is faster at the end of the day (but don't caught up with premature optimization!)."
   ],
   "metadata": {}
  },
  {
   "cell_type": "markdown",
   "source": [
    "Another quantity one may often want to calculate is $\\mathbf{x}^\\top A \\mathbf{y}$ (which is a number) for some matrix $A$. The most important special case is that of a quadratic form <a href=\"https://en.wikipedia.org/wiki/Quadratic_form\">Quadratic form</a>, where $A$ is some symmetric matrix and you want to calculate $\\mathbf{x}^\\top A \\mathbf{x}$. \n",
    "\n",
    "Exercise 5: You will compute $\\mathbf{x}^\\top A \\mathbf{y}$ for a collection of of vectors $\\{\\mathbf{x}_i\\}$ and $\\{\\mathbf{y}_j\\}$, where $A$ is of appropriate size such that the product is defined. You will receive the vectors in the form of two matrices:\n",
    "$$ X = \\begin{bmatrix} \\mathbf{x}_1^\\top \\\\ \\mathbf{x}_2^\\top \\\\ \\vdots \\\\ \\end{bmatrix}$$\n",
    "\n",
    "$$ Y = \\begin{bmatrix} \\mathbf{y}_1^\\top \\\\ \\mathbf{y}_2^\\top \\\\ \\vdots \\\\ \\end{bmatrix}$$\n",
    "\n",
    "Your code will return a matrix such that the $(i,j)$-th entry will be $\\mathbf{x}_i^\\top A \\mathbf{y}_j$. "
   ],
   "metadata": {}
  },
  {
   "cell_type": "markdown",
   "source": [
    "Part (a): Calculate the matrix with $(i,j$)-th entry as  $\\mathbf{x}_i^\\top A \\mathbf{y}_j$ by looping over the rows of $X,Y$."
   ],
   "metadata": {}
  },
  {
   "cell_type": "markdown",
   "source": [
    "Part (b): Repeat part (a), but using only matrix operations (no loops!). \n",
    "\n",
    "Hint: You can do this with just numpy.dot and the transpose operations. Try writing out an appropriate matrix multiplication as above, and noting $\\mathbf{x}^\\top A \\mathbf{y} = (\\mathbf{x}^\\top A) \\mathbf{y}=(A^T \\mathbf{x})^\\top \\mathbf{y}$. "
   ],
   "metadata": {}
  },
  {
   "cell_type": "code",
   "execution_count": 50,
   "source": [
    "#Generate some random data\r\n",
    "A=np.reshape(np.arange(15),(5,3))\r\n",
    "Y=np.reshape(np.arange(30),(10,3))\r\n",
    "X=np.reshape(np.arange(10),(2,5))\r\n",
    "print (module.naive5(X,A,Y))\r\n",
    "print (module.matrix5(X,A,Y))\r\n",
    "print (\"This should be small (about zero): \", np.sum((module.naive5(X,A,Y)-module.matrix5(X,A,Y))**2))\r\n",
    "\r\n",
    "# Your result should be:\r\n",
    "# [[  320  1220  2120  3020  3920  4820  5720  6620  7520  8420]\r\n",
    "#  [  895  3370  5845  8320 10795 13270 15745 18220 20695 23170]]"
   ],
   "outputs": [
    {
     "output_type": "stream",
     "name": "stdout",
     "text": [
      "[[  320.  1220.  2120.  3020.  3920.  4820.  5720.  6620.  7520.  8420.]\n",
      " [  895.  3370.  5845.  8320. 10795. 13270. 15745. 18220. 20695. 23170.]]\n",
      "[[  320  1220  2120  3020  3920  4820  5720  6620  7520  8420]\n",
      " [  895  3370  5845  8320 10795 13270 15745 18220 20695 23170]]\n",
      "This should be small (about zero):  0.0\n"
     ]
    }
   ],
   "metadata": {
    "collapsed": true
   }
  },
  {
   "cell_type": "markdown",
   "source": [
    "Your result should be \n",
    "\n",
    "`[[  320  1220  2120  3020  3920  4820  5720  6620  7520  8420]\n",
    " [  895  3370  5845  8320 10795 13270 15745 18220 20695 23170]]`"
   ],
   "metadata": {}
  },
  {
   "cell_type": "markdown",
   "source": [
    "A related problem is to evaluate $f(\\mathbf{x}) = \\mathbf{x}^\\top A \\mathbf{x}$ where $A$ is a square matrix for a collection of vectors $\\{\\mathbf{x}_i\\}$. You could take the result of Exercise 5 and extract the diagonal (e.g. using `numpy.diag`) and returning that. But, that is wasteful if you don't care about $\\mathbf{x}_i^\\top A \\mathbf{x}_j$ when $i \\neq j$."
   ],
   "metadata": {}
  },
  {
   "cell_type": "markdown",
   "source": [
    "Exercise 6: You will compute $\\mathbf{x}^\\top A \\mathbf{x}$ for a collection of $N$ vectors $\\{\\mathbf{x}_i\\}$ which are provided as a matrix $X$ (as in Exercise 5). You should return a vector length $N$ where the $i$-th entry is $\\mathbf{x}_i^\\top A \\mathbf{x}_i$. "
   ],
   "metadata": {}
  },
  {
   "cell_type": "markdown",
   "source": [
    "Part (a): Calculate a vector with $i$-th component $\\mathbf{x}_i^\\top A \\mathbf{x}_i$ by looping over the rows of $X$."
   ],
   "metadata": {}
  },
  {
   "cell_type": "markdown",
   "source": [
    "Part (b): Repeat part (a) using matrix operations (no loops!). \n",
    "\n",
    "Hint: You can do this with the np.dot, elementwise multiplication and np.sum (along an axis) operations. The solution is <a href=\"http://stackoverflow.com/questions/8457110/how-to-vectorize-the-evaluation-of-bilinear-quadratic-forms\">easily found online</a>, but try it first on your own."
   ],
   "metadata": {}
  },
  {
   "cell_type": "code",
   "execution_count": 51,
   "source": [
    "%run main.py\r\n",
    "module = Lab1()"
   ],
   "outputs": [
    {
     "output_type": "display_data",
     "data": {
      "text/plain": [
       "<Figure size 432x288 with 0 Axes>"
      ]
     },
     "metadata": {}
    }
   ],
   "metadata": {}
  },
  {
   "cell_type": "code",
   "execution_count": 52,
   "source": [
    "A=np.reshape(np.arange(9),(3,3))\r\n",
    "X=np.reshape(np.arange(30),(10,3))\r\n",
    "print (module.naive6(X,A))\r\n",
    "print (module.matrix6(X,A))\r\n",
    "print (\"This should be small:\", np.sum((module.naive6(X,A)-module.matrix6(X,A))**2))\r\n",
    "\r\n",
    "# Your result should be: [   60   672  1932  3840  6396  9600 13452 17952 23100 28896]"
   ],
   "outputs": [
    {
     "output_type": "stream",
     "name": "stdout",
     "text": [
      "[   60.   672.  1932.  3840.  6396.  9600. 13452. 17952. 23100. 28896.]\n",
      "[   60   672  1932  3840  6396  9600 13452 17952 23100 28896]\n",
      "This should be small: 0.0\n"
     ]
    }
   ],
   "metadata": {
    "collapsed": true
   }
  },
  {
   "cell_type": "markdown",
   "source": [
    "## And this concludes Lab 1! "
   ],
   "metadata": {}
  }
 ],
 "metadata": {
  "kernelspec": {
   "name": "python3",
   "display_name": "Python 3.8.2 32-bit"
  },
  "language_info": {
   "codemirror_mode": {
    "name": "ipython",
    "version": 3
   },
   "file_extension": ".py",
   "mimetype": "text/x-python",
   "name": "python",
   "nbconvert_exporter": "python",
   "pygments_lexer": "ipython3",
   "version": "3.8.2"
  },
  "interpreter": {
   "hash": "84ef41f533a47c2c1ec4a75396169e65a153bd2fdb122a93f412a6105082cd8c"
  }
 },
 "nbformat": 4,
 "nbformat_minor": 1
}