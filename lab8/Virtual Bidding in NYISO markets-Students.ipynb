{
 "cells": [
  {
   "cell_type": "markdown",
   "metadata": {},
   "source": [
    "# Virtual bidding in NYISO's markets\n",
    "\n",
    "\n",
    "In this lab, we will implement a simple virtual trading strategy in New York\n",
    "ISO's electricity markets. The goal is to maximize profits. We shall train our\n",
    "model on price data from one year, and implement the strategy on the data from\n",
    "the next year. How much can you earn with a certain daily budget? Say \\$250K?\n",
    "\n",
    "We will present a trading strategy. You are welcome to try other strategies and compare the gains over multiple runs.\n",
    "\n",
    "Let's start with customary imports."
   ]
  },
  {
   "cell_type": "code",
   "execution_count": 1,
   "metadata": {},
   "outputs": [],
   "source": [
    "import pandas as pd\n",
    "import numpy as np\n",
    "import matplotlib.pyplot as plt\n",
    "from numpy.random import choice\n",
    "from sklearn.preprocessing import StandardScaler\n",
    "import seaborn as sns\n",
    "import pickle\n",
    "\n",
    "from sklearn.svm import SVC\n",
    "from sklearn.linear_model import LogisticRegression\n",
    "from sklearn.neural_network import MLPClassifier"
   ]
  },
  {
   "cell_type": "code",
   "execution_count": 2,
   "metadata": {},
   "outputs": [],
   "source": [
    "import os\n",
    "dir = './Training'\n",
    "\n",
    "if(not os.path.exists(dir)):\n",
    "    if(input(\"Do you want to create ./Training/ ?(y/n)\").lower() == 'y'):\n",
    "        os.makedirs(dir)\n",
    "    else:\n",
    "        exit(1)"
   ]
  },
  {
   "cell_type": "markdown",
   "metadata": {},
   "source": [
    "## Load the day-ahead and real-time prices from 11 zones in New York.\n",
    "\n",
    "The day-ahead prices are defined every hour. The real-time market runs every 5 minutes. For each zone, an average of\n",
    "these prices over an hour is published.\n",
    "\n",
    "Store the list of zones in the variable 'listOfZones'. Also, store the number of options\n",
    "as the number of zones times the 24 hours available for trading. Finally create another\n",
    "list containing the option names (zone + hour)."
   ]
  },
  {
   "cell_type": "code",
   "execution_count": 3,
   "metadata": {},
   "outputs": [],
   "source": [
    "listOfZones = ['CAPITL', 'CENTRL', 'DUNWOD', 'GENESE', 'HUD VL', 'LONGIL', 'MHK VL',\n",
    "               'MILLWD', 'N.Y.C.', 'NORTH', 'WEST']\n",
    "\n",
    "nOptions = len(listOfZones) * 24\n",
    "optionNames = [zone + \"_Hour_\" + str(t) for zone in listOfZones for t in range(24)]\n"
   ]
  },
  {
   "cell_type": "markdown",
   "metadata": {},
   "source": [
    "## Parse the files with DA and RT prices along with DA load forecast.\n",
    "\n",
    "Day-Ahead / Real-Time  \n",
    "Define a function that parses three files containing DA and RT prices, along with DA load predictions from a year from all different zones in the list defined before. This function will be used for to both load the data for training the classifiers and testing them. This function has 3 outputs: they are DA prices, difference between DA and RT prices, and finally DA load predictions. The outputs are pandas data frames whose columns are the options, and rows are the days in the year."
   ]
  },
  {
   "cell_type": "code",
   "execution_count": 4,
   "metadata": {},
   "outputs": [],
   "source": [
    "def loadNYISOData(year):\n",
    "\n",
    "    # Open the relevant files for DA prices, RT prices, DA load.\n",
    "\n",
    "    dfPriceDA = pd.read_csv(\"DAM_NYISO_Zonal_LBMP_\" + str(year) + \".csv\")\n",
    "    dfPriceRT = pd.read_csv(\"RTM_NYISO_Zonal_LBMP_\" + str(year) + \".csv\")\n",
    "    dfLoadDA = pd.read_csv(\"DAM_NYISO_LoadForecast_\" + str(year) + \".csv\")\n",
    "\n",
    "    # Collect the DA and RT prices from each zone from each hour and create a pandas list.\n",
    "    # The data should have prices and loads from all days of a year, where each day\n",
    "    # contributes 24 rows, corresponding to each hour.\n",
    "\n",
    "    priceDA = pd.DataFrame({zone: (dfPriceDA.loc[dfPriceDA['Zone Name'] == zone,\n",
    "                                                 'DAM Zonal LBMP']).values\n",
    "                             for zone in listOfZones})\n",
    "    priceRT = pd.DataFrame({zone: (dfPriceRT.loc[dfPriceRT['Zone Name'] == zone,\n",
    "                                                 'TWI Zonal LBMP']).values\n",
    "                             for zone in listOfZones})\n",
    "    loadDA = pd.DataFrame({zone: (dfLoadDA.loc[dfLoadDA['Zone Name'] == zone,\n",
    "                                               'DAM Forecast Load']).values\n",
    "                            for zone in listOfZones})\n",
    "\n",
    "    numberOfDays = int(len(priceDA.index)/24)\n",
    "\n",
    "    # Compute the price differences between DA and RT prices for all options on\n",
    "    # all days of the year. Store it as a pandas data frame where the 24 rows for\n",
    "    # each day is flattened into one row. This operation essentially allows us to\n",
    "    # independently think of each zone in each hour as a separate option. Also,\n",
    "    # reshape the prices for the DA market in the same manner.\n",
    "\n",
    "    priceDART = pd.DataFrame([priceRT.sub(priceDA).loc[day * 24:\n",
    "                                                              (day + 1) * 24 - 1,\n",
    "                              listOfZones].values.flatten()\n",
    "                              for day in range(numberOfDays)],\n",
    "                             columns=optionNames)\n",
    "\n",
    "    priceDA = pd.DataFrame([priceDA.loc[day * 24: (day + 1) * 24 - 1,\n",
    "                            listOfZones].values.flatten()\n",
    "                            for day in range(numberOfDays)],\n",
    "                           columns=optionNames)\n",
    "\n",
    "    return priceDA, priceDART, loadDA\n"
   ]
  },
  {
   "cell_type": "markdown",
   "metadata": {},
   "source": [
    "## Create a function that creates the inputs for training a classifier\n",
    "\n",
    "Create a function that takes the price and load data and creates two arrays\n",
    "'X' and 'Y'. Essentially, the rows of 'X' contains all information relevant to\n",
    " predicting the sign of the price difference on the various options on the next day.\n",
    " It takes as an input, three pandas frames corresponding to the DA prices, price\n",
    " differences, and the DA load predictions, and produces three outputs:\n",
    " the arrays 'X', 'Y', and the range of days from the year that were used to\n",
    " create the data 'X' and 'Y'. This function will be used to both train and\n",
    " test classifiers."
   ]
  },
  {
   "cell_type": "code",
   "execution_count": 5,
   "metadata": {},
   "outputs": [],
   "source": [
    "def createClassifierIO(priceDA, priceDART, loadDA):\n",
    "\n",
    "    # Define how many past days of prices to use for classification.\n",
    "\n",
    "    pastPrices = range(1, 3)\n",
    "\n",
    "    # Define how many past days of load predictions to use for classification.\n",
    "\n",
    "    pastLoad = range(1, 3)\n",
    "\n",
    "    # Define a date range within the year to create the arrays 'X' and 'Y' in a way\n",
    "    # that past price and load data for the first day is within the date range in the\n",
    "    # pandas frames passed as inputs.\n",
    "\n",
    "    rangeOfDays = range(3, len(priceDA.index))\n",
    "\n",
    "    # 'X' will contain three sets of variables:\n",
    "    #   1. the DA prices from past days in the list 'pastDays',\n",
    "    #   2. the differences between DA and RT prices from the same past days,\n",
    "    #   3. the load predictions from past days in the list 'pastLoad'\n",
    "\n",
    "    X = [np.concatenate((\n",
    "        priceDA.loc[[(day - h) for h in pastPrices]].values.flatten(),\n",
    "        priceDART.loc[[(day - h) for h in pastPrices]].values.flatten(),\n",
    "        loadDA.loc[[(day - h) for h in pastLoad]].values.flatten()\n",
    "    )) for day in rangeOfDays]\n",
    "\n",
    "    # Scale the array 'X' to make its data zero mean and unit variance.\n",
    "    X = StandardScaler().fit_transform(X)\n",
    "\n",
    "    # 'Y' will contain zeros and ones, where a one indicates that the price in DA is\n",
    "    # higher than in RT for a particular option. Recall that an option corresponds to\n",
    "    # a zone at a particular hour of the day.\n",
    "\n",
    "    Y = np.array([(priceDART.loc[day].values > 0).astype(int)\n",
    "                  for day in rangeOfDays])\n",
    "\n",
    "    # Return the arrays 'X' and 'Y', and finally the range of days from the year that\n",
    "    # will be utilized for training or testing the classifier.\n",
    "    return X, Y, rangeOfDays"
   ]
  },
  {
   "cell_type": "markdown",
   "metadata": {},
   "source": [
    "## Design the training module.\n",
    " The training module utilizes a year's worth of data to determine the following for\n",
    " each option, i.e., for each zone for each hour of the day:\n",
    "   1. Classifiers that predict the sign of the difference between DA and RT prices.\n",
    "   2. Statistics of the mean of the price difference.\n",
    "   3. A quantile of the day-ahead prices that we will use as our bid for each option.\n",
    " You will either train the classifiers here or load them from the folder './Classifiers'.\n",
    " Storing the classifiers from time to time allows you to only vary the bidding strategy\n",
    " and observe the annual reward rather than having to train the classifiers every time.\n",
    " \n",
    "### Define and train the classifiers or load pre-trained classifiers."
   ]
  },
  {
   "cell_type": "code",
   "execution_count": 6,
   "metadata": {
    "scrolled": false
   },
   "outputs": [
    {
     "name": "stdout",
     "output_type": "stream",
     "text": [
      "Loading previously trained variables...\n",
      "\n",
      "All training variables were loaded successfully...\n",
      "\n"
     ]
    }
   ],
   "source": [
    "classifiers = []\n",
    "\n",
    "# We have two options here. Use previous training experience, or learn a new.\n",
    "useSavedClassifiers = True\n",
    "\n",
    "if not useSavedClassifiers:\n",
    "\n",
    "    print(\"Starting training module...\\n\")\n",
    "    trainPriceDA, trainPriceDART, trainLoadDA = loadNYISOData(2015)\n",
    "\n",
    "    numberOfDays =  int(len(trainPriceDA.index))\n",
    "    print(\"Loaded hourly prices from 2015 for %d days.\" % numberOfDays)\n",
    "\n",
    "    # We will implement a trading strategy, where we bid a particular quantile of the past\n",
    "    # DA prices for an option. If you do not know what a quantile means, refer to the Wikipedia\n",
    "    # article on it. Essentially, a 95% quantile of the DA prices equals that value for which\n",
    "    # 95% of the DA prices are below it. Store all quantiles starting from 50% in steps of\n",
    "    # 5% in a dictionary. Store them in a pickle file.\n",
    "\n",
    "    quantilesToStore = [0.70, 0.75, 0.80, 0.85, 0.90, 0.95]\n",
    "    offerPrices = trainPriceDA.quantile(q=quantilesToStore).transpose().to_dict()\n",
    "    pickle.dump(offerPrices, open(\"./Training/OfferPrices\", 'wb+'))\n",
    "\n",
    "    # Calculate the average price spread for each option over the entire year. This will guide\n",
    "    # us in choosing our portfolio. Store it as a dictionary. Our bid will choose those\n",
    "    # options that our classifier indicates that they will be profitable and historically they\n",
    "    # have higher average price differences, indicating that they have higher rate of return.\n",
    "    # Store them using pickle.\n",
    "\n",
    "    averagePriceSpread = trainPriceDART.mean(axis=0).transpose().to_dict()\n",
    "    pickle.dump(averagePriceSpread, open(\"./Training/AveragePriceSpread\", 'wb+'))\n",
    "\n",
    "    # Create the training dataset using the function 'createClassifierIO' on the prices and\n",
    "    # loads, and store them in 'trainX', and 'trainY'.\n",
    "\n",
    "    trainX, trainY, _ = createClassifierIO(trainPriceDA, trainPriceDART, trainLoadDA)\n",
    "\n",
    "    # Define a collection of classifiers, one for each option. You can try different options, such\n",
    "    # as that based on an SVM, logistic regression, multilayer perceptron based, etc. We will\n",
    "    # measure training accuracy to indicate how well the classifier works on the training dataset.\n",
    "    # However, good training accuracy does not always indicate good test performance.\n",
    "    # Avoid over-fitting.\n",
    "\n",
    "    # classifiers = [MLPClassifier(hidden_layer_sizes=(20, 10), max_iter=200) for _ in range(nOptions)]\n",
    "    classifiers = [SVC(kernel='linear') for _ in range(nOptions)]\n",
    "    # classifiers = [LogisticRegression() for _ in range(nOptions)]\n",
    "\n",
    "    trainingAccuracy = 0\n",
    "\n",
    "    for ii in range(nOptions):\n",
    "        classifiers[ii].fit(trainX, trainY[:, ii])\n",
    "        print(\"Classifier trained for option \" + optionNames[ii])\n",
    "        trainingAccuracy += classifiers[ii].score(trainX, trainY[:, ii])\n",
    "\n",
    "        # Store the classifier.\n",
    "        pickle.dump(classifiers[ii], open(\"./Training/Classifier_\" + optionNames[ii], 'wb+'))\n",
    "\n",
    "    print(\"\\nOverall training accuracy = %1.2f percent.\" % (100 * trainingAccuracy/nOptions))\n",
    "\n",
    "    del numberOfDays, trainPriceDA, trainLoadDA, trainPriceDART, trainX, trainY\n",
    "else:\n",
    "\n",
    "    # Load the classifiers, the offer prices at various quantiles, and the average price spreads.\n",
    "\n",
    "    print(\"Loading previously trained variables...\\n\")\n",
    "    classifiers = [pickle.load(open(\"./Training/Classifier_\" + optionNames[ii], 'rb'))\n",
    "                   for ii in range(nOptions)]\n",
    "    offerPrices = pickle.load(open(\"./Training/OfferPrices\", 'rb'))\n",
    "    averagePriceSpread = pickle.load(open(\"./Training/AveragePriceSpread\", 'rb'))\n",
    "\n",
    "    print(\"All training variables were loaded successfully...\\n\")"
   ]
  },
  {
   "cell_type": "markdown",
   "metadata": {},
   "source": [
    "### Test the classifier's accuracy on test data."
   ]
  },
  {
   "cell_type": "code",
   "execution_count": 7,
   "metadata": {},
   "outputs": [
    {
     "name": "stdout",
     "output_type": "stream",
     "text": [
      "Starting the testing module...\n",
      "\n",
      "Test Accuracy Stats: Min = 46.28%, Avg = 55.97%, Max = 63.64%\n"
     ]
    }
   ],
   "source": [
    "# First, load the test data from NYISO for the year 2016. Again, utilize our function\n",
    "# named 'loadNYISOData'.\n",
    "\n",
    "print(\"Starting the testing module...\\n\")\n",
    "testPriceDA, testPriceDART, testLoadDA = loadNYISOData(2016)\n",
    "\n",
    "# Create the data for the classifier using the function 'createClassifierIO'.\n",
    "testX, testY, rangeOfDays = createClassifierIO(testPriceDA, testPriceDART, testLoadDA)\n",
    "\n",
    "# The next step is not useful for implementing the trading strategy, but quickly check how accurate\n",
    "# your trained classifiers are for the test data. Training accuracy is not always indicative of\n",
    "# test accuracy.\n",
    "\n",
    "testingAccuracy = [classifiers[ii].score(testX, testY[:, ii]) for ii in range(nOptions)]\n",
    "print(\"Test Accuracy Stats: Min = %.2f%%, Avg = %.2f%%, Max = %.2f%%\" %\n",
    "      (100 * np.min(testingAccuracy),\n",
    "       100 * np.mean(testingAccuracy),\n",
    "       100 * np.max(testingAccuracy)))\n",
    "\n",
    "# Utilize the classifiers to predict the sign of DA - RT prices for each day in 'rangeOfDays' for\n",
    "# the test data. Store the result in a pandas data frame with columns as the option names and the\n",
    "# day in year as index.\n",
    "predictedY = pd.DataFrame(np.column_stack([classifiers[ii].predict(testX) for ii in range(nOptions)]),\n",
    "                          columns=optionNames, index=rangeOfDays)"
   ]
  },
  {
   "cell_type": "markdown",
   "metadata": {},
   "source": [
    "## Design and implement the trading strategy. \n",
    "\n",
    "We define a fairly simple trading strategy. Define a total budget that you are willing to spend in the DA market. Recall that we only invest in\n",
    "options where we buy at the DA market and sell at the RT market. When your bid for one unit of an option\n",
    "clears in the DA market, you have to pay the DA price for that option. There are two possibilities:\n",
    "  1. Your bid clears: Therefore, your offer price was higher than the DA price.\n",
    "  2. Your bid does not clear: Then, the DA price was higher than your bid.\n",
    "In both these cases, the maximum you have to pay is your bid. Therefore, we will enforce that your bids\n",
    "across all options in a day does not exceed your total budget.\n",
    "Keep track of how rewards grow (or fall) through the year\n",
    "as you utilize your strategy. Also, keep track of how much rewards you get from each option. We shall\n",
    "visualize these results after implementing the trading strategy over the NYISO data for 2016.\n",
    "\n",
    "Choose the bid prices as a suitable quantile of the historical DA prices. The higher the quantile, the\n",
    "better your chances are that your bid will be cleared. However, a higher quantile also indicates that\n",
    "you are budgeting more money for each option, and hence, you will buy fewer options."
   ]
  },
  {
   "cell_type": "code",
   "execution_count": 8,
   "metadata": {
    "scrolled": false
   },
   "outputs": [],
   "source": [
    "def trading(probTune=0, dailyBudget=250000, quantileOffer=0.8):\n",
    "    # dailyBudget = 250000\n",
    "    # quantileOffer =0.8\n",
    "\n",
    "    # Keep track of your rewards in each day, a cumulative reward over the year, and a total reward over the\n",
    "    # year. Also, keep track of the total reward from each option. Store them as dictionaries that are\n",
    "    # indexed by day of the year.\n",
    "    global reward\n",
    "    global cumulativeReward\n",
    "    global totalReward\n",
    "    global optionReturn\n",
    "\n",
    "    reward = {}\n",
    "    cumulativeReward = {}\n",
    "    totalReward = 0\n",
    "    optionReturn = dict((option, 0) for option in optionNames)\n",
    "\n",
    "    # Implement the trading strategy on each day!\n",
    "\n",
    "    for day in rangeOfDays:\n",
    "\n",
    "        reward[day] = 0\n",
    "\n",
    "        # Find the options that your classifier says that should be profitable. Store the profitable option\n",
    "        # names in chosenOptions.\n",
    "        chosenOptionNumbers = np.ravel(list(np.nonzero(predictedY.loc[day].values)))\n",
    "        if np.size(chosenOptionNumbers) == 0:\n",
    "            continue\n",
    "        chosenOptions = [optionNames[i] for i in chosenOptionNumbers]\n",
    "\n",
    "        # Design the portfolio based on average price spreads. Our strategy is that as long as you have not\n",
    "        # exceeded your daily budget, pick an option from the list of 'chosenOptions' probabilistically, where\n",
    "        # the probability of choosing it is proportional to exponential(historical rewards of that option). That\n",
    "        # is, a historically profitable option is chosen more often than one that is not. Keep sampling and\n",
    "        # decreasing your budget with each bid.\n",
    "\n",
    "        # Start with an empty portfolio.\n",
    "\n",
    "        portfolio = dict((option, 0) for option in chosenOptions)\n",
    "\n",
    "        # Calculate the probabilities of choosing each option among the list 'chosenOptions'. Recall that\n",
    "        # 'chosenOptions' contains the options that your classifier indicates as being profitable.\n",
    "        priceSpreads = [1.0 * averagePriceSpread[option] for option in chosenOptions]\n",
    "\n",
    "        if probTune:\n",
    "            # removinig some options with lower priceSpreads \n",
    "            k_least = int(len(priceSpreads) * probTune)\n",
    "            idx = np.argpartition(np.array(priceSpreads), k_least)[:k_least]\n",
    "            chosenOptions = np.delete(np.array(chosenOptions), idx)\n",
    "            priceSpreads = np.delete(np.array(priceSpreads), idx)\n",
    "\n",
    "        probabilityOptions = [np.exp(p) for p in priceSpreads]\n",
    "        probabilityOptions /= np.sum(probabilityOptions)\n",
    "\n",
    "        # Start with your daily budget.\n",
    "        budget = dailyBudget\n",
    "\n",
    "        # Sampling among the profitable options and bid based on them.\n",
    "        med = np.median([offerPrices[quantileOffer][option] for option in chosenOptions])\n",
    "        while budget > med:\n",
    "\n",
    "            optionToBuy = choice(chosenOptions, p=probabilityOptions)\n",
    "\n",
    "            if budget >= offerPrices[quantileOffer][optionToBuy]:\n",
    "                portfolio[optionToBuy] += 1\n",
    "                budget -= offerPrices[quantileOffer][optionToBuy]\n",
    "        \n",
    "\n",
    "        # Compute the reward from the day. Go through each of the options you have decided to buy.\n",
    "        # If the DA price is lower than the bid price, then your bid is cleared. For each option you\n",
    "        # have bought, you get a reward equal to the DA - RT price.\n",
    "\n",
    "        for option in chosenOptions:\n",
    "            if testPriceDA.at[day, option] < offerPrices[quantileOffer][option]:\n",
    "                rewardOptionDay = testPriceDART.at[day, option] * portfolio[option]\n",
    "                optionReturn[option] += rewardOptionDay\n",
    "                reward[day] += rewardOptionDay\n",
    "\n",
    "        totalReward += reward[day]\n",
    "\n",
    "        # Calculate the cumulative reward in millions of dollars.\n",
    "        cumulativeReward[day] = totalReward/1000000\n",
    "\n",
    "        # print(\"Day \" + str(day) + \": Reward (in $) = \" + \"{0:,.0f}\".format(reward[day]))\n",
    "\n",
    "    print(\"Total money earned over the year (in $) = \" + \"{0:,.0f}\".format(totalReward))"
   ]
  },
  {
   "cell_type": "code",
   "execution_count": 9,
   "metadata": {},
   "outputs": [],
   "source": [
    "# baseline with linearSVC\n",
    "trading(probTune=0, dailyBudget=250000, quantileOffer=0.8)"
   ]
  },
  {
   "cell_type": "markdown",
   "metadata": {},
   "source": [
    "### Task1:  Visualize the rewards (25 points)\n",
    "\n",
    "We would like to plot the cumulative reward over the year 2016. By cumulative reward on a particular date, we mean the total reward from the start of the year till that date.\n",
    "\n",
    "Also, plot a heat map of the returns from each option. \n",
    "\n",
    "#### Fill in the missing lines below."
   ]
  },
  {
   "cell_type": "code",
   "execution_count": null,
   "metadata": {},
   "outputs": [],
   "source": [
    "def visualizeTheRewards():\n",
    "    # Plot the cumulative reward over the year 2016. Also, plot a heat map of the returns from\n",
    "    # each option.\n",
    "\n",
    "    fig, axs = plt.subplots(2, 1, tight_layout=True)\n",
    "    axs = axs.ravel()\n",
    "\n",
    "\n",
    "    ## Enter code here where you plot in axs[0].\n",
    "    axs[0].plot(*zip(*sorted(cumulativeReward.items())))\n",
    "\n",
    "\n",
    "    axs[1] = sns.heatmap(np.reshape(list(optionReturn.values()), (len(listOfZones), 24)),\n",
    "                        linewidth=0.5,\n",
    "                        cmap=\"YlGnBu\")\n",
    "\n",
    "    axs[1].set_yticks(range(len(listOfZones)))\n",
    "    axs[1].set_yticklabels(listOfZones, rotation=0)\n",
    "    axs[1].set_xticks(range(24))\n",
    "    axs[1].set_xticklabels(range(24), rotation=90)\n",
    "    axs[1].set_title('Returns on different options')\n",
    "    plt.show()\n"
   ]
  },
  {
   "cell_type": "code",
   "execution_count": null,
   "metadata": {},
   "outputs": [
    {
     "data": {
      "image/png": "[encoded data removed]",
      "text/plain": [
       "<Figure size 432x288 with 3 Axes>"
      ]
     },
     "metadata": {
      "needs_background": "light"
     },
     "output_type": "display_data"
    }
   ],
   "source": [
    "visualizeTheRewards()"
   ]
  },
  {
   "cell_type": "markdown",
   "metadata": {},
   "source": [
    "### Task 2: Choosing a classifier (25 points)\n",
    "\n",
    "We used a multilayer perceptron classifier. Your task is to try out SVM and logistic regression classifiers, and explore which one leads to more profits. Use the relevant functions from 'sklearn'.\n",
    "\n",
    "#### (comments here, add a new code cell below)\n",
    "SVC(kernel='linear') makes the most profit  \n",
    "\n",
    "### The following experiment results are executed with parameters: [quantile=0.8, budget=250000]  \n",
    "|              | MLP(hidden_layer_sizes=(20, 10), max_iter=200) | SVC(kernel='linear') | LogisticRegression() |\n",
    "|--------------|------------------------------------------------|----------------------|----------------------|\n",
    "| Profit       | 4,367,493                                      | 5,552,386            | 3,442,789            |\n",
    "| Min Accuracy | 49.04%                                         | 46.28%               | 46.83%               |\n",
    "| Avg Accuracy | 58.87%                                         | 55.97%               | 57.50%               |\n",
    "| Max Accuracy | 70.25%                                         | 63.64%               | 66.67%               |"
   ]
  },
  {
   "cell_type": "code",
   "execution_count": null,
   "metadata": {},
   "outputs": [],
   "source": [
    "# directly modify the given code\n",
    "# Only change the classifier to SVC/MLP/LogisticRegression"
   ]
  },
  {
   "cell_type": "markdown",
   "metadata": {},
   "source": [
    "### Task 3: Quantile (25 points)\n",
    "\n",
    "For the best classifier, try different quanltile choices from the following list: 0.70, 0.75, 0.80, 0.85, 0.90, 0.95. Rank them in terms of profits (low to high). \n",
    "\n",
    "How do you expect the quantile to affect the portfolio? \n",
    "\n",
    "#### (comments here, add a new code cell below)\n",
    "If the offerPrice is too low(quantile set too small), then the bid price would have a bigger chance to be lower than DA price, thereby reducing the profit.  \n",
    "If the offerPrice is too high(quantile set too large), the budget will be consumed too fast, thereby having less chance to make a profit.\n",
    "  \n",
    "* Rank of quantiles (low to high)\n",
    "    * [0.7, 0.95, 0.9, 0.85, 0.8, 0.75]\n",
    "\n",
    "### Experiment result\n",
    "* clf = SVC(kernel='linear'), budget = 250000\n",
    "    \n",
    "|| 0.70 | 0.75 | 0.80| 0.85| 0.90| 0.95|\n",
    "|-|------|------|-----|-----|-----|-----|\n",
    "|Total money earned over the year (in $)| 2,637,314 | 6,380,434 | 5,616,604 | 4,581,715 | 4,358,921 | 3,855,389 |"
   ]
  },
  {
   "cell_type": "code",
   "execution_count": null,
   "metadata": {},
   "outputs": [],
   "source": [
    "# uncomment following lines to run task3 (it takes about 20 minutes)\n",
    "# quantileList = [0.70, 0.75, 0.80, 0.85, 0.90, 0.95]\n",
    "# quantileProfit = dict((q, 0) for q in quantileList)\n",
    "# for q in quantileList:\n",
    "#     trading(quantileOffer=q)\n",
    "#     quantileProfit[q] = totalReward\n",
    "# print(\"\\nRank of quantiles:\")\n",
    "# print(dict(sorted(quantileProfit.items(), key=lambda item: item[1])).keys())"
   ]
  },
  {
   "cell_type": "markdown",
   "metadata": {},
   "source": [
    "### Task 4: Daily budget (25 points)\n",
    "\n",
    "We used a daily budget of 250,000. Try different budgets, let's say, 100,000, 150,000, 200,000, and 300,000. Rank them in terms of profits (low to high). Fix the quantile to the one that led to maximum profits in the previous task. \n",
    "\n",
    "#### (comments here, add a new code cell below)\n",
    "As one can simply guess, the more budget one has, the more profit one can make.\n",
    "* budgetProfit\n",
    "    * Total money earned over the year (in $) = 2,232,970\n",
    "    * Total money earned over the year (in $) = 3,399,887\n",
    "    * Total money earned over the year (in $) = 4,567,410\n",
    "    * Total money earned over the year (in $) = 6,788,331\n",
    "* Rank of budgets:\n",
    "    * [100000, 150000, 200000, 300000]"
   ]
  },
  {
   "cell_type": "code",
   "execution_count": null,
   "metadata": {},
   "outputs": [],
   "source": [
    "# uncomment following lines to run task4 (it takes about 10 minutes)\n",
    "# budgetList = [100000, 150000, 200000,  300000]\n",
    "# budgetProfit = dict((budget, 0) for budget in budgetList)\n",
    "# for budget in budgetList:\n",
    "#     trading(dailyBudget=budget, quantileOffer=0.75)\n",
    "#     budgetProfit[budget] = totalReward\n",
    "# print(\"\\nRank of budgets:\")\n",
    "# print(dict(sorted(budgetProfit.items(), key=lambda item: item[1])).keys())"
   ]
  },
  {
   "cell_type": "markdown",
   "metadata": {},
   "source": [
    "### Task 5: Beat the algorithm! (15 points, bonus) \n",
    "\n",
    "Make changes to increase the profits further! The people with the top 10 total profits will get additional points. Exaplain what did for improvement and how much profits you made. Do not exceed the 250,000 budget!\n",
    "\n",
    "#### (comments here, add a new code cell below)"
   ]
  },
  {
   "cell_type": "code",
   "execution_count": null,
   "metadata": {},
   "outputs": [
    {
     "name": "stdout",
     "output_type": "stream",
     "text": [
      "Total money earned over the year (in $) = 7,291,523\n"
     ]
    },
    {
     "data": {
      "image/png": "[encoded data removed]",
      "text/plain": [
       "<Figure size 432x288 with 3 Axes>"
      ]
     },
     "metadata": {
      "needs_background": "light"
     },
     "output_type": "display_data"
    }
   ],
   "source": [
    "trading(probTune=0.85, dailyBudget=250000, quantileOffer=0.75)\n",
    "visualizeTheRewards()"
   ]
  },
  {
   "cell_type": "markdown",
   "metadata": {},
   "source": [
    "### Task 6: Implement a different trading strategy (bonus) \n",
    "\n",
    "Implement a different trading strategy, explain it and report its outcomes. If the rewards are comparable to the one discussed in class, and you can clearly explain the logic behind you strategy, you get additional 25 points. If your strategy leads to having profits among the top 20, then you automatically completed Task 6 (10 points) too! \n",
    "\n",
    "#### (comments here, add a new code cell below)"
   ]
  },
  {
   "cell_type": "markdown",
   "metadata": {},
   "source": [
    "* Enable probTune in my code  \n",
    "I drop some chosenOptions according to the priceSpreads. Keep only those with higher priceSpreads.  \n",
    "In this way, the strategy will always avoid those strategies with poor historical performance."
   ]
  }
 ],
 "metadata": {
  "interpreter": {
   "hash": "27defd6a9865291880d7e631815b086a7169dc7f77c3e63a734619a5bdb9440c"
  },
  "kernelspec": {
   "display_name": "Python 3.9.7 64-bit",
   "name": "python3"
  },
  "language_info": {
   "codemirror_mode": {
    "name": "ipython",
    "version": 3
   },
   "file_extension": ".py",
   "mimetype": "text/x-python",
   "name": "python",
   "nbconvert_exporter": "python",
   "pygments_lexer": "ipython3",
   "version": "3.9.7"
  },
  "pycharm": {
   "stem_cell": {
    "cell_type": "raw",
    "metadata": {
     "collapsed": false
    },
    "source": []
   }
  }
 },
 "nbformat": 4,
 "nbformat_minor": 2
}
